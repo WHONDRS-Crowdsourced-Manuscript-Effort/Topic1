{
  "cells": [
    {
      "cell_type": "markdown",
      "metadata": {
        "id": "view-in-github",
        "colab_type": "text"
      },
      "source": [
        "<a href=\"https://colab.research.google.com/github/erikafreeman/Topic1/blob/main/5_alpha.div/Alpha.ipynb\" target=\"_parent\"><img src=\"https://colab.research.google.com/assets/colab-badge.svg\" alt=\"Open In Colab\"/></a>"
      ]
    },
    {
      "cell_type": "markdown",
      "source": [
        "\n",
        "\n",
        "```\n",
        "In order to run this code you must:\n",
        "1. Copy the (this folder: Erika add link) into the main folder of your google drive\n",
        "1. Enter \"other\" when prompted\n",
        "\n",
        "```\n",
        "\n"
      ],
      "metadata": {
        "id": "sx5NQZRKNAY2"
      }
    },
    {
      "cell_type": "code",
      "execution_count": 38,
      "metadata": {
        "id": "YLULMA1D8vqi"
      },
      "outputs": [],
      "source": [
        "def userpath(user):\n",
        "    if user in 'ecf':\n",
        "        userspecific = \"/4-CareerWork/1-PhD\"\n",
        "        return userspecific \n",
        "    if user in 'other':\n",
        "        userspecific = \"\"\n",
        "        return userspecific \n",
        "    else:\n",
        "        return (user + ' is is not a valid username. Try again. Initials, no caps.')"
      ]
    },
    {
      "cell_type": "code",
      "source": [
        "#ajt or ecf\n",
        "user = input(\"Enter username: \")\n",
        "user_path =  userpath(user)\n",
        "general_gdrive = \"/content/drive/MyDrive\"\n",
        "print('The user of this session is: ' + user)\n",
        "print('We will connect you to this google drive location: ' + general_gdrive + user_path)"
      ],
      "metadata": {
        "colab": {
          "base_uri": "https://localhost:8080/"
        },
        "id": "TsNXCvo0ul0G",
        "outputId": "ce1ce91d-f8f5-485d-c4c8-52284db70cd2"
      },
      "execution_count": 39,
      "outputs": [
        {
          "output_type": "stream",
          "name": "stdout",
          "text": [
            "Enter username: ecf\n",
            "The user of this session is: ecf\n",
            "We will connect you to this google drive location: /content/drive/MyDrive/4-CareerWork/1-PhD\n"
          ]
        }
      ]
    },
    {
      "cell_type": "code",
      "execution_count": 40,
      "metadata": {
        "id": "-bIos5nY8yfw"
      },
      "outputs": [],
      "source": [
        "#general drive locations \n",
        "user_path =  userpath(user)\n",
        "general_gdrive = \"/content/drive/MyDrive\"\n",
        "folder_name = \"/1-SoilGradient/\"\n",
        "path = general_gdrive + user_path + folder_name\n",
        "r_lib = '1-Code/Rlib/library.tar.gz'\n",
        "csv_from = '0-Raw/'\n",
        "csv_to = '1-Processed/'"
      ]
    },
    {
      "cell_type": "code",
      "execution_count": 41,
      "metadata": {
        "colab": {
          "base_uri": "https://localhost:8080/"
        },
        "id": "UG-WFeQfmSQe",
        "outputId": "fdc9c994-2b8a-4458-d4ac-6c12cccb3c50"
      },
      "outputs": [
        {
          "output_type": "stream",
          "name": "stdout",
          "text": [
            "Drive already mounted at /content/drive; to attempt to forcibly remount, call drive.mount(\"/content/drive\", force_remount=True).\n"
          ]
        }
      ],
      "source": [
        "from google.colab import drive\n",
        "drive.mount('/content/drive')\n",
        "import pandas as pd\n",
        "import numpy as np\n",
        "import seaborn as sns\n",
        "import pylab as pl\n",
        "import matplotlib.pyplot as plt"
      ]
    },
    {
      "cell_type": "code",
      "execution_count": 42,
      "metadata": {
        "id": "7lfNHDUG8gmj",
        "colab": {
          "base_uri": "https://localhost:8080/"
        },
        "outputId": "5e69c942-ec76-400b-d014-69761ae7b815"
      },
      "outputs": [
        {
          "output_type": "stream",
          "name": "stdout",
          "text": [
            "The rpy2.ipython extension is already loaded. To reload it, use:\n",
            "  %reload_ext rpy2.ipython\n"
          ]
        }
      ],
      "source": [
        "#Magic command interface for interactive work with R in ipython. \n",
        "'''\n",
        "%R and %%R are the line and cell magics, respectively\n",
        "https://rpy2.github.io/doc/latest/html/interactive.html\n",
        "'''\n",
        "%load_ext rpy2.ipython"
      ]
    },
    {
      "cell_type": "code",
      "execution_count": 43,
      "metadata": {
        "id": "PYeqsuJE8irE",
        "colab": {
          "base_uri": "https://localhost:8080/"
        },
        "outputId": "2125fa42-90b5-4e93-e4cc-61e9864391b8"
      },
      "outputs": [
        {
          "output_type": "stream",
          "name": "stdout",
          "text": [
            "tar: Removing leading `/' from member names\n"
          ]
        }
      ],
      "source": [
        "#Point to zipped R packages(saved in another notebook)\n",
        "#https://stackoverflow.com/questions/35497069/passing-ipython-variables-as-arguments-to-bash-commands\n",
        "r_path = '\"' + path + r_lib + '\"' \n",
        "%cp $r_path . \n",
        "!tar xf library.tar.gz"
      ]
    },
    {
      "cell_type": "code",
      "execution_count": 44,
      "metadata": {
        "id": "_xldEdqs8kcH"
      },
      "outputs": [],
      "source": [
        "#Add packages to path\n",
        "%%R\n",
        ".libPaths('usr/local/lib/R/site-library/')"
      ]
    },
    {
      "cell_type": "code",
      "execution_count": 45,
      "metadata": {
        "id": "a52X7MOgmZ30"
      },
      "outputs": [],
      "source": [
        "dir = path + '0-Data/'\n",
        "data_dir = dir +  '1-Processed/01-Cleaned/'\n",
        "whondrs_dir = dir + '3-CrossTabCollection/0-Raw/'\n",
        "filename1 = '00-CleanData_original_normal.csv'\n",
        "filename2 = 'FTICR_commat_rep.merged2_rar1_2022-01-19.csv'"
      ]
    },
    {
      "cell_type": "code",
      "source": [
        "url1 = 'https://raw.githubusercontent.com/erikafreeman/Topic1/main/4_gather.thresholds/FTICR_crosstable_rep.merged1_all_em.thres_2022-03-23.csv'\n",
        "url2 = 'https://raw.githubusercontent.com/erikafreeman/Topic1/main/4_gather.thresholds/FTICR_crosstable_rep.merged2_all_em.thres_2022-03-23.csv'\n",
        "url3 = 'https://raw.githubusercontent.com/erikafreeman/Topic1/main/4_gather.thresholds/FTICR_peaks_crosstable_rep.merged1_all_em.thres_2022-03-23.csv'\n",
        "url4 = 'https://raw.githubusercontent.com/erikafreeman/Topic1/main/4_gather.thresholds/FTICR_peaks_crosstable_rep.merged2_all_em.thres_2022-03-23.csv'\n",
        "\n",
        "pd.read_csv(url1, encoding = 'unicode_escape')\n",
        "\n",
        "!wget https://github.com/erikafreeman/Topic1/raw/main/1_data.cleaning/output/peaks/peaks_original.zip\n",
        "!wget https://github.com/erikafreeman/Topic1/raw/main/1_data.cleaning/output/peaks/peaks_rep.merged2.zip\n",
        "!wget https://github.com/erikafreeman/Topic1/raw/main/1_data.cleaning/output/rep.merged1.zip\n",
        "!wget https://github.com/erikafreeman/Topic1/raw/main/1_data.cleaning/output/rep.merged2.zip"
      ],
      "metadata": {
        "id": "K2T4ANfmWl7f"
      },
      "execution_count": null,
      "outputs": []
    },
    {
      "cell_type": "code",
      "source": [
        "!unzip /content/peaks_original.zip -d '/content/drive/My Drive/data'\n",
        "!unzip /content/peaks_rep.merged2.zip -d '/content/drive/My Drive/data'\n",
        "!unzip /content/rep.merged1.zip  -d '/content/drive/My Drive/data'\n",
        "!unzip /content/rep.merged2.zip -d '/content/drive/My Drive/data'"
      ],
      "metadata": {
        "colab": {
          "base_uri": "https://localhost:8080/"
        },
        "id": "VMZP42Zin5yE",
        "outputId": "62ef53b3-eb2f-4905-d708-2fada8d261db"
      },
      "execution_count": 56,
      "outputs": [
        {
          "output_type": "stream",
          "name": "stdout",
          "text": [
            "Archive:  /content/peaks_original.zip\n",
            "replace /content/drive/My Drive/data/FTICR_raw.peaks_commat_2022-01-18.csv? [y]es, [n]o, [A]ll, [N]one, [r]ename: y\n",
            "  inflating: /content/drive/My Drive/data/FTICR_raw.peaks_commat_2022-01-18.csv  \n",
            "y\n",
            "Archive:  /content/peaks_rep.merged2.zip\n",
            "  inflating: /content/drive/My Drive/data/FTICR_peaks_commat_rep.merged2_2022-01-18.csv  \n",
            "  inflating: /content/drive/My Drive/data/FTICR_peaks_commat_rep.merged2_rar1_2022-01-19.csv  \n",
            "  inflating: /content/drive/My Drive/data/FTICR_peaks_commat_rep.merged2_rar2_2022-01-19.csv  \n",
            "Archive:  /content/rep.merged1.zip\n",
            "  inflating: /content/drive/My Drive/data/FTICR_commat_rep.merged1_2022-01-18.csv  \n",
            "  inflating: /content/drive/My Drive/data/FTICR_commat_rep.merged1_rar1_2022-01-19.csv  \n",
            "  inflating: /content/drive/My Drive/data/FTICR_commat_rep.merged1_rar2_2022-01-19.csv  \n",
            "  inflating: /content/drive/My Drive/data/FTICR_crosstable_rep.merged1_2022-01-19.csv  \n",
            "  inflating: /content/drive/My Drive/data/FTICR_crosstable_rep.merged1_rar1_2022-01-19.csv  \n",
            "  inflating: /content/drive/My Drive/data/FTICR_crosstable_rep.merged1_rar2_2022-01-19.csv  \n",
            "Archive:  /content/rep.merged2.zip\n",
            "  inflating: /content/drive/My Drive/data/FTICR_commat_rep.merged2_2022-01-18.csv  \n",
            "  inflating: /content/drive/My Drive/data/FTICR_commat_rep.merged2_rar1_2022-01-19.csv  \n",
            "  inflating: /content/drive/My Drive/data/FTICR_commat_rep.merged2_rar2_2022-01-19.csv  \n",
            "  inflating: /content/drive/My Drive/data/FTICR_crosstable_rep.merged2_2022-01-19.csv  \n",
            "  inflating: /content/drive/My Drive/data/FTICR_crosstable_rep.merged2_rar1_2022-01-19.csv  \n",
            "  inflating: /content/drive/My Drive/data/FTICR_crosstable_rep.merged2_rar2_2022-01-19.csv  \n"
          ]
        }
      ]
    },
    {
      "cell_type": "code",
      "source": [
        "df = pd.read_csv('/content/drive/My Drive/data/FTICR_raw.peaks_commat_2022-01-18.csv')"
      ],
      "metadata": {
        "id": "ORgjwVsVjuq7"
      },
      "execution_count": 58,
      "outputs": []
    },
    {
      "cell_type": "code",
      "source": [
        "df1 = pd.read_csv(whondrs_dir+ filename2)\n",
        "display(df1)"
      ],
      "metadata": {
        "id": "LY83nTmcVWqJ"
      },
      "execution_count": null,
      "outputs": []
    },
    {
      "cell_type": "code",
      "source": [
        "df = pd.read_csv(data_dir + filename1)\n",
        "print(df.columns)"
      ],
      "metadata": {
        "id": "lgw_ya8rzj3O"
      },
      "execution_count": null,
      "outputs": []
    },
    {
      "cell_type": "code",
      "source": [
        "df1 = df.copy()\n",
        "df1.loc[:,'C1B05':] = df1.loc[:,'C1B05':].apply(lambda x: [1 if y > 0 else 0 for y in x])\n",
        "SiteNamesList = ['C1', 'C2', 'H1', 'H2']\n",
        "df1.set_index('formula_isotopefree', inplace=True)\n",
        "df2 = df1.filter(regex='|'.join(SiteNamesList))\n",
        "df1_transposed = df2.T \n",
        "df3 = df1_transposed.reset_index()\n",
        "df3.rename(columns={\"index\": \"Sample\"}, inplace=True)\n",
        "\n",
        "\n",
        "def WithSampleNameSplit(df):\n",
        "    stacked_mol_sample = df['Sample'].str.split('(\\d+)([A-Za-z]+)', n = 3, expand = True) \n",
        "    stacked_mol_sample['SiteName'] = stacked_mol_sample[0]+ stacked_mol_sample[1] \n",
        "    stacked_mol_names = stacked_mol_sample.rename(columns={2: 'Position', 3: 'Depth'})\n",
        "    mol_final_clean= stacked_mol_names.drop([0, 1], axis=1) #624909 rows × 8 columns\n",
        "    mol_final_clean['Depth'].replace({\"\": \"ST\"}, inplace=True) #replace blanks with ST #mol_final_clean['Depth'].unique()\n",
        "    with_names = pd.concat([df, mol_final_clean], axis = 1) \n",
        "    return with_names\n",
        "\n",
        "df4 = WithSampleNameSplit(df3)\n",
        "display(df4)\n",
        "df4['Depth']= df4['Depth'].astype('category')\n",
        "df4['Depth']= df4['Depth'].cat.reorder_categories(['05', '15', '30', '60', 'ST'], ordered=True)\n",
        "df4= df4.sort_values('Depth')\n",
        "\n",
        "df4['Position']= df4['Position'].astype('category')\n",
        "df4['Position']= df4['Position'].cat.reorder_categories(['S', 'B', 'F', 'T', 'ST'],  ordered=True)\n",
        "df4= df4.sort_values('Position')"
      ],
      "metadata": {
        "id": "B4mLpKAa092A"
      },
      "execution_count": null,
      "outputs": []
    },
    {
      "cell_type": "code",
      "source": [
        "df5 = df4.groupby(['SiteName', 'Depth']).sum()\n",
        "df5.loc[:,'C10H10N2O2':] = df5.loc[:,'C10H10N2O2':].apply(lambda x: [1 if y > 0 else 0 for y in x])\n",
        "df5['sum'] =df5.sum(axis=1)\n",
        "df5['sum2'] = 1216/df5['sum'] * 100\n",
        "display(df5)\n",
        "\n",
        "print(1216/9327)"
      ],
      "metadata": {
        "id": "6BrywQlFWbZO"
      },
      "execution_count": null,
      "outputs": []
    }
  ],
  "metadata": {
    "colab": {
      "collapsed_sections": [],
      "name": "Alpha.ipynb",
      "provenance": [],
      "include_colab_link": true
    },
    "kernelspec": {
      "display_name": "Python 3",
      "name": "python3"
    },
    "language_info": {
      "name": "python"
    }
  },
  "nbformat": 4,
  "nbformat_minor": 0
}